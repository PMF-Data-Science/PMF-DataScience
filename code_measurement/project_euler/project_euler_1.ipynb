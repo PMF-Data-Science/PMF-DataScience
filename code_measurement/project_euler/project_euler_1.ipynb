{
  "cells": [
    {
      "cell_type": "markdown",
      "metadata": {
        "id": "cKeSwEYEi12I"
      },
      "source": [
        "# Project Euler #1"
      ]
    },
    {
      "cell_type": "markdown",
      "metadata": {
        "id": "YXL-q-Aoo7GE"
      },
      "source": [
        "**Opis problema**\n",
        "\n",
        "\"*If we list all the natural numbers below 10 that are multiples of 3 or 5, we get 3, 5, 6 and 9. The sum of these multiples is 23.*\n",
        "\n",
        "*Find the sum of all the multiples of 3 or 5 below 1000.*\"\n",
        "\n",
        "[Izvor](https://projecteuler.net/problem=1)"
      ]
    },
    {
      "cell_type": "markdown",
      "metadata": {
        "id": "xFuxt60PoMJz"
      },
      "source": [
        "## Razina - Uvod u programiranje"
      ]
    },
    {
      "cell_type": "code",
      "execution_count": 1,
      "metadata": {
        "id": "iXOmp2_in-EM"
      },
      "outputs": [],
      "source": [
        "# natural_numbers_sum = 0\n",
        "# for number in range(1000):\n",
        "#     if number % 3 == 0 or number % 5 == 0:\n",
        "#         natural_numbers_sum += number\n",
        "\n",
        "# print(natural_numbers_sum)"
      ]
    },
    {
      "cell_type": "markdown",
      "metadata": {
        "id": "mKfIV3rtoLcx"
      },
      "source": [
        "## Razina - napredno programiranje u Pythonu"
      ]
    },
    {
      "cell_type": "markdown",
      "metadata": {
        "id": "MfOjTOhCPnP5"
      },
      "source": [
        "KONSTANTE"
      ]
    },
    {
      "cell_type": "code",
      "execution_count": 2,
      "metadata": {
        "id": "juQZoBN1PobB"
      },
      "outputs": [],
      "source": [
        "# alphabetize\n",
        "# DIVISOR_THREE = 3\n",
        "# DIVISOR_FIVE = 5\n",
        "# UPPER_LIMIT = 1000"
      ]
    },
    {
      "cell_type": "markdown",
      "metadata": {
        "id": "9gkp8lm4ovb5"
      },
      "source": [
        "Koristimo tzv. *list comprehension*"
      ]
    },
    {
      "cell_type": "code",
      "execution_count": 3,
      "metadata": {
        "id": "a5k0QrSto0Yd"
      },
      "outputs": [],
      "source": [
        "# natural_numbers_sum = sum([\n",
        "#     number\n",
        "#     for number in range(UPPER_LIMIT)\n",
        "#     if number % DIVISOR_THREE == 0 or number % DIVISOR_FIVE == 0\n",
        "# ])\n",
        "# print(natural_numbers_sum)"
      ]
    },
    {
      "cell_type": "markdown",
      "metadata": {
        "id": "zZ5gS-i5os17"
      },
      "source": [
        "Koristimo generator"
      ]
    },
    {
      "cell_type": "code",
      "execution_count": 4,
      "metadata": {
        "id": "e5_69NgKoKuX"
      },
      "outputs": [],
      "source": [
        "# natural_numbers_sum = sum(\n",
        "#     number\n",
        "#     for number in range(UPPER_LIMIT)\n",
        "#     if not number % DIVISOR_THREE or not number % DIVISOR_FIVE\n",
        "# )\n",
        "# print(natural_numbers_sum)"
      ]
    },
    {
      "cell_type": "code",
      "execution_count": 5,
      "metadata": {
        "id": "xsLynY3TQ-n7"
      },
      "outputs": [],
      "source": [
        "# number = 3\n",
        "# divisor = 5\n",
        "\n",
        "# 3 % 5 (3) 3 % 5 == 0 (False)\n",
        "# 5 % 5 (0) 5 % 5 == 0 (True)\n",
        "\n",
        "# print(bool(number % divisor))"
      ]
    },
    {
      "cell_type": "code",
      "execution_count": 6,
      "metadata": {
        "id": "tcmRgOpa9Ja-"
      },
      "outputs": [],
      "source": [
        "# DIVISOR_THREE = 3\n",
        "# DIVISOR_FIVE = 5\n",
        "# UPPER_LIMIT = 1000\n",
        "\n",
        "\n",
        "# def get_natural_numbers_sum():\n",
        "#     return sum(\n",
        "#         number\n",
        "#         for number in range(UPPER_LIMIT)\n",
        "#         if not number % DIVISOR_THREE or not number % DIVISOR_FIVE\n",
        "#     )"
      ]
    },
    {
      "cell_type": "markdown",
      "metadata": {
        "id": "JKXPsGKr27o5"
      },
      "source": [
        "# Testiranje ispravnosti koda"
      ]
    },
    {
      "cell_type": "code",
      "execution_count": 7,
      "metadata": {
        "id": "yLsSFXJQ2-mq"
      },
      "outputs": [],
      "source": [
        "# import unittest\n",
        "\n",
        "\n",
        "# class TestNaturalNumbersSum(unittest.TestCase):\n",
        "#     def test_sum_below_thousand(self):\n",
        "#         self.assertEqual(get_natural_numbers_sum(), 233168)"
      ]
    },
    {
      "cell_type": "code",
      "execution_count": 8,
      "metadata": {
        "id": "KSQsyuWq_Uuw"
      },
      "outputs": [],
      "source": [
        "# TestNaturalNumbersSum().test_sum_below_thousand()"
      ]
    },
    {
      "cell_type": "code",
      "execution_count": 1,
      "metadata": {
        "colab": {
          "base_uri": "https://localhost:8080/"
        },
        "id": "Zcl_so25BaFn",
        "outputId": "6695a50c-a3d2-4254-f6b3-c5948a1cce34"
      },
      "outputs": [
        {
          "name": "stderr",
          "output_type": "stream",
          "text": [
            "E\n",
            "======================================================================\n",
            "ERROR: testovi (unittest.loader._FailedTest)\n",
            "----------------------------------------------------------------------\n",
            "ImportError: Failed to import test module: testovi\n",
            "Traceback (most recent call last):\n",
            "  File \"C:\\Users\\Marko\\AppData\\Local\\Programs\\Python\\Python36\\lib\\unittest\\loader.py\", line 153, in loadTestsFromName\n",
            "    module = __import__(module_name)\n",
            "ModuleNotFoundError: No module named 'testovi'\n",
            "\n",
            "\n",
            "----------------------------------------------------------------------\n",
            "Ran 1 test in 0.000s\n",
            "\n",
            "FAILED (errors=1)\n"
          ]
        }
      ],
      "source": [
        "!python -m unittest testovi"
      ]
    },
    {
      "cell_type": "markdown",
      "metadata": {
        "id": "SHiIWXcKJ2Ck"
      },
      "source": [
        "# Testiranje efikasnosti"
      ]
    },
    {
      "cell_type": "markdown",
      "metadata": {
        "id": "-x3jIADCNVgh"
      },
      "source": [
        "## Mjerenje prostora"
      ]
    },
    {
      "cell_type": "code",
      "execution_count": 10,
      "metadata": {
        "colab": {
          "base_uri": "https://localhost:8080/"
        },
        "id": "2ushPZKZJ4v8",
        "outputId": "6f43e29d-d33c-4d09-8be5-03a3ffa7b902"
      },
      "outputs": [
        {
          "name": "stdout",
          "output_type": "stream",
          "text": [
            "Requirement already satisfied: guppy3 in /usr/local/lib/python3.7/dist-packages (3.1.2)\n"
          ]
        }
      ],
      "source": [
        "pip install guppy3"
      ]
    },
    {
      "cell_type": "code",
      "execution_count": 11,
      "metadata": {
        "colab": {
          "base_uri": "https://localhost:8080/"
        },
        "id": "AmGwnPh5K9eJ",
        "outputId": "012b23b2-3f46-403f-c2fc-960e4c6ca817"
      },
      "outputs": [
        {
          "name": "stdout",
          "output_type": "stream",
          "text": [
            "Partition of a set of 523894 objects. Total size = 66157194 bytes.\n",
            " Index  Count   %     Size   % Cumulative  % Kind (class / dict of class)\n",
            "     0 148524  28 19484772  29  19484772  29 str\n",
            "     1 141727  27 12057320  18  31542092  48 tuple\n",
            "     2  60754  12  4777666   7  36319758  55 bytes\n",
            "     3  30761   6  4450904   7  40770662  62 types.CodeType\n",
            "     4  28879   6  4158576   6  44929238  68 function\n",
            "     5  11156   2  4007464   6  48936702  74 dict (no owner)\n",
            "     6   3498   1  3438032   5  52374734  79 type\n",
            "     7   1310   0  2046976   3  54421710  82 dict of module\n",
            "     8   3498   1  1977536   3  56399246  85 dict of type\n",
            "     9   8068   2  1062888   2  57462134  87 list\n",
            "<1237 more rows. Type e.g. '_.more' to view.>\n"
          ]
        }
      ],
      "source": [
        "from guppy import hpy\n",
        "\n",
        "h = hpy()\n",
        "\n",
        "print(h.heap())"
      ]
    },
    {
      "cell_type": "code",
      "execution_count": 12,
      "metadata": {
        "colab": {
          "base_uri": "https://localhost:8080/"
        },
        "id": "PLWlGUHILiXb",
        "outputId": "6dcdd731-8a51-4c1f-a811-03e26ad3a540"
      },
      "outputs": [
        {
          "name": "stdout",
          "output_type": "stream",
          "text": [
            "233168\n"
          ]
        }
      ],
      "source": [
        "from natural_numbers import get_natural_numbers_sum\n",
        "\n",
        "DIVISOR_FIVE = 5\n",
        "DIVISOR_THREE = 3\n",
        "DIVISOR_SEVEN = 7\n",
        "DIVISOR_MINUS_FIVE = -5\n",
        "DIVISOR_MINUS_THREE = -3\n",
        "DIVISOR_MINUS_SEVEN = -7\n",
        "DIVISORS = [DIVISOR_FIVE, DIVISOR_THREE, DIVISOR_SEVEN, DIVISOR_MINUS_FIVE, DIVISOR_MINUS_THREE, DIVISOR_MINUS_SEVEN]\n",
        "\n",
        "LOWER_LIMIT = -100\n",
        "UPPER_LIMIT = 1000\n",
        "\n",
        "\n",
        "print(get_natural_numbers_sum(LOWER_LIMIT, DIVISORS, UPPER_LIMIT))"
      ]
    },
    {
      "cell_type": "code",
      "execution_count": 13,
      "metadata": {
        "colab": {
          "base_uri": "https://localhost:8080/"
        },
        "id": "3ol4AVgoLuwF",
        "outputId": "107654e1-92c7-472d-8a7d-896e9a9a5861"
      },
      "outputs": [
        {
          "name": "stdout",
          "output_type": "stream",
          "text": [
            "Partition of a set of 523749 objects. Total size = 66129879 bytes.\n",
            " Index  Count   %     Size   % Cumulative  % Kind (class / dict of class)\n",
            "     0 148565  28 19488182  29  19488182  29 str\n",
            "     1 141709  27 12054584  18  31542766  48 tuple\n",
            "     2  60761  12  4778177   7  36320943  55 bytes\n",
            "     3  30765   6  4451488   7  40772431  62 types.CodeType\n",
            "     4  28740   5  4138560   6  44910991  68 function\n",
            "     5  11170   2  4010936   6  48921927  74 dict (no owner)\n",
            "     6   3498   1  3438032   5  52359959  79 type\n",
            "     7   1311   0  2047632   3  54407591  82 dict of module\n",
            "     8   3498   1  1977536   3  56385127  85 dict of type\n",
            "     9   8064   2  1054360   2  57439487  87 list\n",
            "<1233 more rows. Type e.g. '_.more' to view.>\n"
          ]
        }
      ],
      "source": [
        "print(h.heap())"
      ]
    },
    {
      "cell_type": "markdown",
      "metadata": {
        "id": "Lhc7B8QZL0k8"
      },
      "source": [
        "Mjerenje A: 67947521\n",
        "\n",
        "Mjerenje B: 67951586"
      ]
    },
    {
      "cell_type": "markdown",
      "metadata": {
        "id": "C-ZlRDifNYz_"
      },
      "source": [
        "## Mjerenje vremena"
      ]
    },
    {
      "cell_type": "markdown",
      "metadata": {
        "id": "gawDLTfMPk1i"
      },
      "source": [
        "Može li efikasnije?"
      ]
    },
    {
      "cell_type": "code",
      "execution_count": 24,
      "metadata": {
        "colab": {
          "base_uri": "https://localhost:8080/"
        },
        "id": "liSx9XsKYqNS",
        "outputId": "ba0cb2be-a632-4628-f6b1-a92fe67b88c5"
      },
      "outputs": [
        {
          "name": "stdout",
          "output_type": "stream",
          "text": [
            "Package                       Version\n",
            "----------------------------- --------------\n",
            "absl-py                       0.12.0\n",
            "alabaster                     0.7.12\n",
            "albumentations                0.1.12\n",
            "altair                        4.1.0\n",
            "appdirs                       1.4.4\n",
            "argcomplete                   1.12.3\n",
            "argon2-cffi                   21.1.0\n",
            "arviz                         0.11.4\n",
            "astor                         0.8.1\n",
            "astropy                       4.3.1\n",
            "astunparse                    1.6.3\n",
            "atari-py                      0.2.9\n",
            "atomicwrites                  1.4.0\n",
            "attrs                         21.2.0\n",
            "audioread                     2.1.9\n",
            "autograd                      1.3\n",
            "Babel                         2.9.1\n",
            "backcall                      0.2.0\n",
            "beautifulsoup4                4.6.3\n",
            "bleach                        4.1.0\n",
            "blis                          0.4.1\n",
            "bokeh                         2.3.3\n",
            "Bottleneck                    1.3.2\n",
            "branca                        0.4.2\n",
            "bs4                           0.0.1\n",
            "CacheControl                  0.12.6\n",
            "cached-property               1.5.2\n",
            "cachetools                    4.2.4\n",
            "catalogue                     1.0.0\n",
            "certifi                       2021.5.30\n",
            "cffi                          1.14.6\n",
            "cftime                        1.5.1\n",
            "chardet                       3.0.4\n",
            "charset-normalizer            2.0.7\n",
            "clang                         5.0\n",
            "click                         7.1.2\n",
            "cloudpickle                   1.3.0\n",
            "cmake                         3.12.0\n",
            "cmdstanpy                     0.9.5\n",
            "colorcet                      2.0.6\n",
            "colorlover                    0.3.0\n",
            "community                     1.0.0b1\n",
            "contextlib2                   0.5.5\n",
            "convertdate                   2.3.2\n",
            "coverage                      3.7.1\n",
            "coveralls                     0.5\n",
            "crcmod                        1.7\n",
            "cufflinks                     0.17.3\n",
            "cvxopt                        1.2.7\n",
            "cvxpy                         1.0.31\n",
            "cycler                        0.10.0\n",
            "cymem                         2.0.5\n",
            "Cython                        0.29.24\n",
            "daft                          0.0.4\n",
            "dask                          2.12.0\n",
            "datascience                   0.10.6\n",
            "debugpy                       1.0.0\n",
            "decorator                     4.4.2\n",
            "defusedxml                    0.7.1\n",
            "descartes                     1.1.0\n",
            "dill                          0.3.4\n",
            "distributed                   1.25.3\n",
            "dlib                          19.18.0\n",
            "dm-tree                       0.1.6\n",
            "docopt                        0.6.2\n",
            "docutils                      0.17.1\n",
            "dopamine-rl                   1.0.5\n",
            "earthengine-api               0.1.284\n",
            "easydict                      1.9\n",
            "ecos                          2.0.7.post1\n",
            "editdistance                  0.5.3\n",
            "en-core-web-sm                2.2.5\n",
            "entrypoints                   0.3\n",
            "ephem                         4.1\n",
            "et-xmlfile                    1.1.0\n",
            "fa2                           0.3.5\n",
            "fastai                        1.0.61\n",
            "fastdtw                       0.3.4\n",
            "fastprogress                  1.0.0\n",
            "fastrlock                     0.6\n",
            "fbprophet                     0.7.1\n",
            "feather-format                0.4.1\n",
            "filelock                      3.3.0\n",
            "firebase-admin                4.4.0\n",
            "fix-yahoo-finance             0.0.22\n",
            "Flask                         1.1.4\n",
            "flatbuffers                   1.12\n",
            "folium                        0.8.3\n",
            "future                        0.16.0\n",
            "gast                          0.4.0\n",
            "GDAL                          2.2.2\n",
            "gdown                         3.6.4\n",
            "gensim                        3.6.0\n",
            "geographiclib                 1.52\n",
            "geopy                         1.17.0\n",
            "gin-config                    0.4.0\n",
            "glob2                         0.7\n",
            "google                        2.0.3\n",
            "google-api-core               1.26.3\n",
            "google-api-python-client      1.12.8\n",
            "google-auth                   1.35.0\n",
            "google-auth-httplib2          0.0.4\n",
            "google-auth-oauthlib          0.4.6\n",
            "google-cloud-bigquery         1.21.0\n",
            "google-cloud-bigquery-storage 1.1.0\n",
            "google-cloud-core             1.0.3\n",
            "google-cloud-datastore        1.8.0\n",
            "google-cloud-firestore        1.7.0\n",
            "google-cloud-language         1.2.0\n",
            "google-cloud-storage          1.18.1\n",
            "google-cloud-translate        1.5.0\n",
            "google-colab                  1.0.0\n",
            "google-pasta                  0.2.0\n",
            "google-resumable-media        0.4.1\n",
            "googleapis-common-protos      1.53.0\n",
            "googledrivedownloader         0.4\n",
            "graphviz                      0.10.1\n",
            "greenlet                      1.1.2\n",
            "grpcio                        1.41.0\n",
            "gspread                       3.0.1\n",
            "gspread-dataframe             3.0.8\n",
            "guppy3                        3.1.2\n",
            "gym                           0.17.3\n",
            "h5py                          3.1.0\n",
            "HeapDict                      1.0.1\n",
            "hijri-converter               2.2.2\n",
            "holidays                      0.10.5.2\n",
            "holoviews                     1.14.6\n",
            "html5lib                      1.0.1\n",
            "httpimport                    0.5.18\n",
            "httplib2                      0.17.4\n",
            "httplib2shim                  0.0.3\n",
            "humanize                      0.5.1\n",
            "hyperopt                      0.1.2\n",
            "ideep4py                      2.0.0.post3\n",
            "idna                          2.10\n",
            "imageio                       2.4.1\n",
            "imagesize                     1.2.0\n",
            "imbalanced-learn              0.4.3\n",
            "imblearn                      0.0\n",
            "imgaug                        0.2.9\n",
            "importlib-metadata            4.8.1\n",
            "importlib-resources           5.2.2\n",
            "imutils                       0.5.4\n",
            "inflect                       2.1.0\n",
            "iniconfig                     1.1.1\n",
            "intel-openmp                  2021.4.0\n",
            "intervaltree                  2.1.0\n",
            "ipykernel                     4.10.1\n",
            "ipython                       5.5.0\n",
            "ipython-genutils              0.2.0\n",
            "ipython-sql                   0.3.9\n",
            "ipywidgets                    7.6.5\n",
            "itsdangerous                  1.1.0\n",
            "jax                           0.2.21\n",
            "jaxlib                        0.1.71+cuda111\n",
            "jdcal                         1.4.1\n",
            "jedi                          0.18.0\n",
            "jieba                         0.42.1\n",
            "Jinja2                        2.11.3\n",
            "joblib                        1.0.1\n",
            "jpeg4py                       0.1.4\n",
            "jsonschema                    2.6.0\n",
            "jupyter                       1.0.0\n",
            "jupyter-client                5.3.5\n",
            "jupyter-console               5.2.0\n",
            "jupyter-core                  4.8.1\n",
            "jupyterlab-pygments           0.1.2\n",
            "jupyterlab-widgets            1.0.2\n",
            "kaggle                        1.5.12\n",
            "kapre                         0.3.5\n",
            "keras                         2.6.0\n",
            "Keras-Preprocessing           1.1.2\n",
            "keras-vis                     0.4.1\n",
            "kiwisolver                    1.3.2\n",
            "korean-lunar-calendar         0.2.1\n",
            "librosa                       0.8.1\n",
            "lightgbm                      2.2.3\n",
            "llvmlite                      0.34.0\n",
            "lmdb                          0.99\n",
            "LunarCalendar                 0.0.9\n",
            "lxml                          4.2.6\n",
            "Markdown                      3.3.4\n",
            "MarkupSafe                    2.0.1\n",
            "matplotlib                    3.2.2\n",
            "matplotlib-inline             0.1.3\n",
            "matplotlib-venn               0.11.6\n",
            "missingno                     0.5.0\n",
            "mistune                       0.8.4\n",
            "mizani                        0.6.0\n",
            "mkl                           2019.0\n",
            "mlxtend                       0.14.0\n",
            "more-itertools                8.10.0\n",
            "moviepy                       0.2.3.5\n",
            "mpmath                        1.2.1\n",
            "msgpack                       1.0.2\n",
            "multiprocess                  0.70.12.2\n",
            "multitasking                  0.0.9\n",
            "murmurhash                    1.0.5\n",
            "music21                       5.5.0\n",
            "natsort                       5.5.0\n",
            "nbclient                      0.5.4\n",
            "nbconvert                     5.6.1\n",
            "nbformat                      5.1.3\n",
            "nest-asyncio                  1.5.1\n",
            "netCDF4                       1.5.7\n",
            "networkx                      2.6.3\n",
            "nibabel                       3.0.2\n",
            "nltk                          3.2.5\n",
            "notebook                      5.3.1\n",
            "numba                         0.51.2\n",
            "numexpr                       2.7.3\n",
            "numpy                         1.19.5\n",
            "nvidia-ml-py3                 7.352.0\n",
            "oauth2client                  4.1.3\n",
            "oauthlib                      3.1.1\n",
            "okgrade                       0.4.3\n",
            "opencv-contrib-python         4.1.2.30\n",
            "opencv-python                 4.1.2.30\n",
            "openpyxl                      2.5.9\n",
            "opt-einsum                    3.3.0\n",
            "osqp                          0.6.2.post0\n",
            "packaging                     21.0\n",
            "palettable                    3.3.0\n",
            "pandas                        1.1.5\n",
            "pandas-datareader             0.9.0\n",
            "pandas-gbq                    0.13.3\n",
            "pandas-profiling              1.4.1\n",
            "pandocfilters                 1.5.0\n",
            "panel                         0.12.1\n",
            "param                         1.11.1\n",
            "parso                         0.8.2\n",
            "pathlib                       1.0.1\n",
            "patsy                         0.5.2\n",
            "pep517                        0.11.0\n",
            "pexpect                       4.8.0\n",
            "pickleshare                   0.7.5\n",
            "Pillow                        7.1.2\n",
            "pip                           21.1.3\n",
            "pip-tools                     6.2.0\n",
            "plac                          1.1.3\n",
            "plotly                        4.4.1\n",
            "plotnine                      0.6.0\n",
            "pluggy                        0.7.1\n",
            "pooch                         1.5.1\n",
            "portpicker                    1.3.9\n",
            "prefetch-generator            1.0.1\n",
            "preshed                       3.0.5\n",
            "prettytable                   2.2.1\n",
            "progressbar2                  3.38.0\n",
            "prometheus-client             0.12.0\n",
            "promise                       2.3\n",
            "prompt-toolkit                1.0.18\n",
            "protobuf                      3.17.3\n",
            "psutil                        5.4.8\n",
            "psycopg2                      2.7.6.1\n",
            "ptyprocess                    0.7.0\n",
            "py                            1.10.0\n",
            "pyarrow                       3.0.0\n",
            "pyasn1                        0.4.8\n",
            "pyasn1-modules                0.2.8\n",
            "pycocotools                   2.0.2\n",
            "pycparser                     2.20\n",
            "pyct                          0.4.8\n",
            "pydata-google-auth            1.2.0\n",
            "pydot                         1.3.0\n",
            "pydot-ng                      2.0.0\n",
            "pydotplus                     2.0.2\n",
            "PyDrive                       1.3.1\n",
            "pyemd                         0.5.1\n",
            "pyerfa                        2.0.0\n",
            "pyglet                        1.5.0\n",
            "Pygments                      2.6.1\n",
            "pygobject                     3.26.1\n",
            "pymc3                         3.11.4\n",
            "PyMeeus                       0.5.11\n",
            "pymongo                       3.12.0\n",
            "pymystem3                     0.2.0\n",
            "PyOpenGL                      3.1.5\n",
            "pyparsing                     2.4.7\n",
            "pyrsistent                    0.18.0\n",
            "pysndfile                     1.3.8\n",
            "PySocks                       1.7.1\n",
            "pystan                        2.19.1.1\n",
            "pytest                        3.6.4\n",
            "python-apt                    0.0.0\n",
            "python-chess                  0.23.11\n",
            "python-dateutil               2.8.2\n",
            "python-louvain                0.15\n",
            "python-slugify                5.0.2\n",
            "python-utils                  2.5.6\n",
            "pytz                          2018.9\n",
            "pyviz-comms                   2.1.0\n",
            "PyWavelets                    1.1.1\n",
            "PyYAML                        3.13\n",
            "pyzmq                         22.3.0\n",
            "qdldl                         0.1.5.post0\n",
            "qtconsole                     5.1.1\n",
            "QtPy                          1.11.2\n",
            "regex                         2019.12.20\n",
            "requests                      2.23.0\n",
            "requests-oauthlib             1.3.0\n",
            "resampy                       0.2.2\n",
            "retrying                      1.3.3\n",
            "rpy2                          3.4.5\n",
            "rsa                           4.7.2\n",
            "scikit-image                  0.16.2\n",
            "scikit-learn                  0.22.2.post1\n",
            "scipy                         1.4.1\n",
            "screen-resolution-extra       0.0.0\n",
            "scs                           2.1.4\n",
            "seaborn                       0.11.2\n",
            "semver                        2.13.0\n",
            "Send2Trash                    1.8.0\n",
            "setuptools                    57.4.0\n",
            "setuptools-git                1.2\n",
            "Shapely                       1.7.1\n",
            "simplegeneric                 0.8.1\n",
            "six                           1.15.0\n",
            "sklearn                       0.0\n",
            "sklearn-pandas                1.8.0\n",
            "smart-open                    5.2.1\n",
            "snowballstemmer               2.1.0\n",
            "sortedcontainers              2.4.0\n",
            "SoundFile                     0.10.3.post1\n",
            "spacy                         2.2.4\n",
            "Sphinx                        1.8.5\n",
            "sphinxcontrib-serializinghtml 1.1.5\n",
            "sphinxcontrib-websupport      1.2.4\n",
            "SQLAlchemy                    1.4.25\n",
            "sqlparse                      0.4.2\n",
            "srsly                         1.0.5\n",
            "statsmodels                   0.10.2\n",
            "sympy                         1.7.1\n",
            "tables                        3.4.4\n",
            "tabulate                      0.8.9\n",
            "tblib                         1.7.0\n",
            "tensorboard                   2.6.0\n",
            "tensorboard-data-server       0.6.1\n",
            "tensorboard-plugin-wit        1.8.0\n",
            "tensorflow                    2.6.0\n",
            "tensorflow-datasets           4.0.1\n",
            "tensorflow-estimator          2.6.0\n",
            "tensorflow-gcs-config         2.6.0\n",
            "tensorflow-hub                0.12.0\n",
            "tensorflow-metadata           1.2.0\n",
            "tensorflow-probability        0.14.1\n",
            "termcolor                     1.1.0\n",
            "terminado                     0.12.1\n",
            "testpath                      0.5.0\n",
            "text-unidecode                1.3\n",
            "textblob                      0.15.3\n",
            "Theano-PyMC                   1.1.2\n",
            "thinc                         7.4.0\n",
            "tifffile                      2021.10.12\n",
            "toml                          0.10.2\n",
            "tomli                         1.2.1\n",
            "toolz                         0.11.1\n",
            "torch                         1.9.0+cu111\n",
            "torchsummary                  1.5.1\n",
            "torchtext                     0.10.0\n",
            "torchvision                   0.10.0+cu111\n",
            "tornado                       5.1.1\n",
            "tqdm                          4.62.3\n",
            "traitlets                     5.1.0\n",
            "tweepy                        3.10.0\n",
            "typeguard                     2.7.1\n",
            "typing-extensions             3.7.4.3\n",
            "tzlocal                       1.5.1\n",
            "uritemplate                   3.0.1\n",
            "urllib3                       1.24.3\n",
            "vega-datasets                 0.9.0\n",
            "wasabi                        0.8.2\n",
            "wcwidth                       0.2.5\n",
            "webencodings                  0.5.1\n",
            "Werkzeug                      1.0.1\n",
            "wheel                         0.37.0\n",
            "widgetsnbextension            3.5.1\n",
            "wordcloud                     1.5.0\n",
            "wrapt                         1.12.1\n",
            "xarray                        0.18.2\n",
            "xgboost                       0.90\n",
            "xkit                          0.0.0\n",
            "xlrd                          1.1.0\n",
            "xlwt                          1.3.0\n",
            "yellowbrick                   0.9.1\n",
            "zict                          2.0.0\n",
            "zipp                          3.6.0\n"
          ]
        }
      ],
      "source": [
        "pip list"
      ]
    },
    {
      "cell_type": "code",
      "execution_count": 25,
      "metadata": {
        "id": "uvtLHYs1Pm7L"
      },
      "outputs": [],
      "source": [
        "import numpy\n",
        "import scipy\n",
        "\n",
        "\n",
        "#from natural_numbers import (\n",
        "#   DIVISOR_FIVE,\n",
        "#    DIVISOR_THREE,\n",
        "#    get_natural_numbers_sum,\n",
        "#    UPPER_LIMIT\n",
        ")\n",
        "DIVISOR_FIVE = 5\n",
        "DIVISOR_THREE = 3\n",
        "DIVISOR_SEVEN = 7\n",
        "DIVISOR_MINUS_FIVE = -5\n",
        "DIVISOR_MINUS_THREE = -3\n",
        "DIVISOR_MINUS_SEVEN = -7\n",
        "DIVISORS = [DIVISOR_FIVE, DIVISOR_THREE, DIVISOR_SEVEN, DIVISOR_MINUS_FIVE, DIVISOR_MINUS_THREE, DIVISOR_MINUS_SEVEN]\n",
        "\n",
        "LOWER_LIMIT = -100\n",
        "UPPER_LIMIT = 1000\n",
        "\n",
        "generator = (\n",
        "    number\n",
        "    for number in range(UPPER_LIMIT)\n",
        "    if any(not number % divisor for divisor in DIVISORS)\n",
        ")\n",
        "\n",
        "def alternative_sum_using_numpy():\n",
        "    return numpy.sum(numpy.fromiter(generator, int))\n",
        "\n",
        "\n",
        "def alternative_sum_using_scipy():\n",
        "    return scipy.sum(generator)"
      ]
    },
    {
      "cell_type": "code",
      "execution_count": 33,
      "metadata": {
        "colab": {
          "base_uri": "https://localhost:8080/"
        },
        "id": "EUZeiqMZNYTE",
        "outputId": "094ed73d-24ac-42ca-c627-86d421a05501"
      },
      "outputs": [
        {
          "name": "stdout",
          "output_type": "stream",
          "text": [
            "Nativni sum: 0.14089212399994722\n",
            "NumPy sum: 0.005336534000889515\n",
            "SciPy sum: 0.005501755000295816\n"
          ]
        },
        {
          "name": "stderr",
          "output_type": "stream",
          "text": [
            "/usr/local/lib/python3.7/dist-packages/ipykernel_launcher.py:23: DeprecationWarning: scipy.sum is deprecated and will be removed in SciPy 2.0.0, use numpy.sum instead\n"
          ]
        }
      ],
      "source": [
        "import timeit\n",
        "from natural_numbers import get_natural_numbers_sum\n",
        "\n",
        "DIVISOR_FIVE = 5\n",
        "DIVISOR_THREE = 3\n",
        "DIVISOR_SEVEN = 7\n",
        "DIVISOR_MINUS_FIVE = -5\n",
        "DIVISOR_MINUS_THREE = -3\n",
        "DIVISOR_MINUS_SEVEN = -7\n",
        "DIVISORS = [DIVISOR_FIVE, DIVISOR_THREE, DIVISOR_SEVEN, DIVISOR_MINUS_FIVE, DIVISOR_MINUS_THREE, DIVISOR_MINUS_SEVEN]\n",
        "\n",
        "LOWER_LIMIT = -100\n",
        "UPPER_LIMIT = 1000\n",
        "\n",
        "# Povećavamo vrijednost number parametra kako bismo ukazali na skalabilnost\n",
        "# po broju pozivanja\n",
        "\n",
        "print(f'Nativni sum: {timeit.timeit(get_natural_numbers_sum(LOWER_LIMIT, DIVISORS, UPPER_LIMIT), number=1000)}')\n",
        "print(f'NumPy sum: {timeit.timeit(alternative_sum_using_numpy, number=1000)}')\n",
        "print(f'SciPy sum: {timeit.timeit(alternative_sum_using_scipy, number=1000)}')\n",
        "\n",

      ]
    },
    {
      "cell_type": "markdown",
      "metadata": {
        "id": "fmGzQX-pYDYR"
      },
      "source": [
        "# Testiranje skalabilnosti"
      ]
    },
    {
      "cell_type": "markdown",
      "metadata": {
        "id": "bpLAERrOYHyn"
      },
      "source": [
        "## Povećavanje gornje granice"
      ]
    },
    {
      "cell_type": "code",
      "execution_count": 64,
      "metadata": {
        "id": "6k91DiVIYHLS"
      },
      "outputs": [],
      "source": [
        "# Napraviti mjerenja za 10 000, 100 000 i 1 000 000.\n",
        "\n",
        "# Dodati još nekoliko mjerenja kako bismo povećali pouzdanost\n",
        "# rezultata mjerenja\n",
        "\n",
        "# Spremiti mjerenja u kolekciju podataka (npr. dict)\n",
        "\n",
        "# Prikazati rezultate mjerenja (diskretne podatke)\n",
        "# u koordinatnom sustavu\n",
        "# x-os: gornja granica\n",
        "# y-os: vrijeme izvršavanja\n",
        "\n",
        "# Pokušati regresijskim modelom utvrditi kako se vrijeme izvršavanja\n",
        "# mijenja s promjenom gornje granice segmenta prirodnih brojeva"
      ]
    },
    {
      "cell_type": "code",
      "execution_count": 27,
      "metadata": {},
      "outputs": [
        {
          "data": {
            "image/png": "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",
            "text/plain": [
              "<Figure size 1080x360 with 2 Axes>"
            ]
          },
          "metadata": {
            "needs_background": "light"
          },
          "output_type": "display_data"
        }
      ],
      "source": [
        "# rješenje za --> gornju granicu povećamo na 10 000, 100 000 i 1 000 000, Korištenjem vizualizacijskog alata, prikažite kako efikasnost pada/raste s\n",
        "# izmjenama navedenim na prethodnom slajdu.\n",
        "\n",
        "import efficiency_test\n",
        "import matplotlib.pyplot as plt\n",
        "import seaborn as sns\n",
        "\n",
        "fig,axes = plt.subplots(nrows=1,ncols=2,figsize=(15,5))\n",
        "\n",
        "measurements_dict = efficiency_test.test_efficiency(divisors)\n",
        "\n",
        "axes[0].set_title('Data')\n",
        "axes[0].set_xlabel('upper limit')\n",
        "axes[0].set_ylabel('execution time')\n",
        "plt.axes(axes[0])\n",
        "sns.scatterplot(x=list(measurements_dict.keys()),y=list(measurements_dict.values()))\n",
        "\n",
        "axes[1].set_title('Data with regression line for the data')\n",
        "axes[1].set_xlabel('upper limit')\n",
        "axes[1].set_ylabel('execution time')\n",
        "plt.axes(axes[1])\n",
        "sns.regplot(x=list(measurements_dict.keys()),y=list(measurements_dict.values()))\n",
        "\n",
        "plt.show()"
      ]
    },
    {
      "cell_type": "code",
      "execution_count": 28,
      "metadata": {},
      "outputs": [
        {
          "data": {
            "image/png": "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",
            "text/plain": [
              "<Figure size 1080x360 with 2 Axes>"
            ]
          },
          "metadata": {
            "needs_background": "light"
          },
          "output_type": "display_data"
        }
      ],
      "source": [
        "# rješenje za --> dodamo još jedan djelitelj, npr. broj 7., Korištenjem vizualizacijskog alata, prikažite kako efikasnost pada/raste s\n",
        "# izmjenama navedenim na prethodnom slajdu.\n",
        "\n",
        "#moduli su ponovno importani jer se runtime restartao\n",
        "import efficiency_test\n",
        "import matplotlib.pyplot as plt \n",
        "import seaborn as sns\n",
        "\n",
        "fig,axes = plt.subplots(nrows=1,ncols=2,figsize=(15,5))\n",
        "\n",
        "measurements_dict = efficiency_test.test_efficiency(divisors)\n",
        "\n",
        "axes[0].set_title('Data')\n",
        "axes[0].set_xlabel('upper limit')\n",
        "axes[0].set_ylabel('execution time')\n",
        "plt.axes(axes[0])\n",
        "sns.scatterplot(x=list(measurements_dict.keys()),y=list(measurements_dict.values()))\n",
        "\n",
        "axes[1].set_title('Data with regression line for the data')\n",
        "axes[1].set_xlabel('upper limit')\n",
        "axes[1].set_ylabel('execution time')\n",
        "plt.axes(axes[1])\n",
        "sns.regplot(x=list(measurements_dict.keys()),y=list(measurements_dict.values()))\n",
        "\n",
        "plt.show()"
      ]
    },
    {
      "cell_type": "code",
      "execution_count": 29,
      "metadata": {},
      "outputs": [
        {
          "data": {
            "image/png": "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",
            "text/plain": [
              "<Figure size 1080x360 with 2 Axes>"
            ]
          },
          "metadata": {
            "needs_background": "light"
          },
          "output_type": "display_data"
        }
      ],
      "source": [
        "# rješenje za --> omogućimo korisniku da unese N djelitelja, N < gornja_granica, s provjerom da nema duplikata, Korištenjem vizualizacijskog alata, prikažite kako efikasnost pada/raste s\n",
        "# izmjenama navedenim na prethodnom slajdu.\n",
        "\n",
        "#moduli su ponovno importani jer se runtime restartao u odnosu na prethodni blok koda\n",
        "import efficiency_test\n",
        "import matplotlib.pyplot as plt \n",
        "import seaborn as sns\n",
        "\n",
        "fig,axes = plt.subplots(nrows=1,ncols=2,figsize=(15,5))\n",
        "\n",
        "measurements_dict = efficiency_test.test_efficiency(divisors)\n",
        "\n",
        "axes[0].set_title('Data')\n",
        "axes[0].set_xlabel('upper limit')\n",
        "axes[0].set_ylabel('execution time')\n",
        "plt.axes(axes[0])\n",
        "sns.scatterplot(x=list(measurements_dict.keys()),y=list(measurements_dict.values()))\n",
        "\n",
        "axes[1].set_title('Data with regression line for the data')\n",
        "axes[1].set_xlabel('upper limit')\n",
        "axes[1].set_ylabel('execution time')\n",
        "plt.axes(axes[1])\n",
        "sns.regplot(x=list(measurements_dict.keys()),y=list(measurements_dict.values()))\n",
        "\n",
        "plt.show()"
      ]
    },
    {
      "cell_type": "code",
      "execution_count": null,
      "metadata": {},
      "outputs": [],
      "source": [
        "# rješenje za --> proširimo problem na skup cijelih brojeva, Korištenjem vizualizacijskog alata, prikažite kako efikasnost pada/raste s\n",
        "# izmjenama navedenim na prethodnom slajdu.\n",
        "\n",
        "#kao djelitelji su ostavljeni 3,5 i 7\n",
        "\n",
        "\n",
        "fig,axes = plt.subplots(nrows=1,ncols=2,figsize=(15,5))\n",
        "\n",
        "measurements_dict = efficiency_test.test_efficiency(divisors)\n",
        "\n",
        "axes[0].set_title('Data')\n",
        "axes[0].set_xlabel('upper limit')\n",
        "axes[0].set_ylabel('execution time')\n",
        "plt.axes(axes[0])\n",
        "sns.scatterplot(x=list(measurements_dict.keys()),y=list(measurements_dict.values()))\n",
        "\n",
        "axes[1].set_title('Data with regression line for the data')\n",
        "axes[1].set_xlabel('upper limit')\n",
        "axes[1].set_ylabel('execution time')\n",
        "plt.axes(axes[1])\n",
        "sns.regplot(x=list(measurements_dict.keys()),y=list(measurements_dict.values()))\n",
        "\n",
        "plt.show()"
      ]
    }
  ],
  "metadata": {
    "colab": {
      "collapsed_sections": [
        "cKeSwEYEi12I",
        "SHiIWXcKJ2Ck",
        "-x3jIADCNVgh"
      ],
      "name": "Zadatak Euler.ipynb",
      "provenance": []
    },
    "interpreter": {
      "hash": "92251dc7553284cc6eeda1a08574f0a37a27d02ea16d70fb33158f74738d09a2"
    },
    "kernelspec": {
      "display_name": "Python 3.6.8 64-bit",
      "name": "python3"
    },
    "language_info": {
      "codemirror_mode": {
        "name": "ipython",
        "version": 3
      },
      "file_extension": ".py",
      "mimetype": "text/x-python",
      "name": "python",
      "nbconvert_exporter": "python",
      "pygments_lexer": "ipython3",
      "version": "3.6.8"
    }
  },
  "nbformat": 4,
  "nbformat_minor": 2
}
